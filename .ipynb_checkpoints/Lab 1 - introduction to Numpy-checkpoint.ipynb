{
 "cells": [
  {
   "cell_type": "markdown",
   "metadata": {},
   "source": [
    "<div style=\"direction:rtl;text-align:center;font-size:30px;font-weight:bold\">\n",
    "مقدمة موجزة لمكتبة NumPy"
   ]
  },
  {
   "cell_type": "markdown",
   "metadata": {},
   "source": [
    "<div style=\"direction:rtl;text-align:right\">\n",
    "أهلا وسهلا بكم في هذه المقدمة الموجزة إلى مكتبة نمباي. تعتبر مكتبة نمباي هي نواة لجميع مهمات تحليل الأعداد والبيانات في البايثون لأنها تحتوي على قائمة كبيرة من العمليات الرياضية والتي يتم أداؤها ليس بدقة عالية فحسب بل بكفاءة متناهية. لن نحتاج إلى الغوص في تفاصيل هذه المكتبة بل سنقوم في هذا الدرس بإلقاء نظرة عامة على أهم أساسياتها والتي ستساعدنا في الدروس القادمة أثناء تحليل البيانات."
   ]
  },
  {
   "cell_type": "markdown",
   "metadata": {},
   "source": [
    "<div style=\"direction:rtl;text-align:right\">\n",
    "تدور فكرة النمباي حول إضافة أنواع جديدة من حاويات البيانات ألا وهي المصفوفات أو ما يسمى بالتمثيل متعدد الأبعاد للأرقام في شكل مصفوفات. سواء كانت مصفوفة أحادية الأبعاد (وهنا تصبح قائمة من الأرقام فحسب)، أو ثنائية الأبعاد (وهنا تصبح أشبه بجدول من الأرقام، لكل رقم صف وعمود)، أو ثلاثية الأبعاد (وهنا يصبح لدينا مكعب الأرقام، لكل عنصر صف وعمود وعمق) أو متعددة الأبعاد. سنستعرض أمثلة المصفوفات أحادية الأبعاد وثنائية الأبعاد في هذا الدرس."
   ]
  },
  {
   "cell_type": "code",
   "execution_count": 1,
   "metadata": {
    "collapsed": true
   },
   "outputs": [],
   "source": [
    "import numpy as np"
   ]
  },
  {
   "cell_type": "markdown",
   "metadata": {},
   "source": [
    "<div style=\"direction:rtl;text-align:right\">\n",
    "\n",
    "# إنشاء المصفوفات"
   ]
  },
  {
   "cell_type": "markdown",
   "metadata": {},
   "source": [
    "<div style=\"direction:rtl;text-align:right\">\n",
    "كل ما نحتاجه لإنشاء مصفوفة في نمباي هو قائمة بالأرقام كما في المثال التالي:"
   ]
  },
  {
   "cell_type": "code",
   "execution_count": 2,
   "metadata": {
    "collapsed": true
   },
   "outputs": [],
   "source": [
    "a = np.array([1, 2, 3], dtype=np.int)"
   ]
  },
  {
   "cell_type": "code",
   "execution_count": 3,
   "metadata": {
    "collapsed": false
   },
   "outputs": [
    {
     "data": {
      "text/plain": [
       "array([1, 2, 3])"
      ]
     },
     "execution_count": 3,
     "metadata": {},
     "output_type": "execute_result"
    }
   ],
   "source": [
    "a"
   ]
  },
  {
   "cell_type": "markdown",
   "metadata": {},
   "source": [
    "<div style=\"direction:rtl;text-align:right\">\n",
    "نلاحظ أن نمباي تقوم تلقائياً بتحويل قائمة الأرقام إلى مصفوفة ذات بعد واحد (وهو ما يسمى بالمتجه أو vector). على الرغم من أن تعريف المتغير dtype اختياري، إلا أن معرفة نوع الأرقام داخل كل مصفوفة مهم جداً في تحليل البيانات. لذلك نختار إحدى أنواع البيانات في نمباي وهو الأرقام الصحيحة."
   ]
  },
  {
   "cell_type": "markdown",
   "metadata": {},
   "source": [
    "<div style=\"direction:rtl;text-align:right\">\n",
    "لمعرفة حجم المصفوفة أو القائمة، تقوم باستخدام الأمر shape. وهنا نلاحظ أن shape ليس أمراً بل هو خاصية معرفة داخل كل مصفوفة بمعنى أننا لا نريد تنفيذ أي مهمات معينة سوى استدعاء القيمة. نرى النتيجة في قوسين وداخلهما فاصلة وهذه تسمى (tuple).    نرى أولاً عدد الصفوف ثم عدد الأعمدة. بما أننا نتعامل مع متجه، فسيتم عرض رقم واحد فقط هو عدد العناصر بالداخل."
   ]
  },
  {
   "cell_type": "code",
   "execution_count": 4,
   "metadata": {
    "collapsed": false
   },
   "outputs": [
    {
     "data": {
      "text/plain": [
       "(3,)"
      ]
     },
     "execution_count": 4,
     "metadata": {},
     "output_type": "execute_result"
    }
   ],
   "source": [
    "a.shape"
   ]
  },
  {
   "cell_type": "markdown",
   "metadata": {},
   "source": [
    "<div style=\"direction:rtl;text-align:right\">\n",
    "لاستدعاء العناصر بحسب الموقع (أو الترتيب) سنقوم بإضافة رقم الموقع بعد اسم المتغير:"
   ]
  },
  {
   "cell_type": "code",
   "execution_count": 5,
   "metadata": {
    "collapsed": false
   },
   "outputs": [
    {
     "name": "stdout",
     "output_type": "stream",
     "text": [
      "1\n",
      "2\n",
      "3\n"
     ]
    }
   ],
   "source": [
    "print(a[0])\n",
    "print(a[1])\n",
    "print(a[2])"
   ]
  },
  {
   "cell_type": "markdown",
   "metadata": {},
   "source": [
    "<div style=\"direction:rtl;text-align:right\">\n",
    "إضافة إلى كذلك وكما نفعل مع القوائم، يمكننا تغيير أي عنصر في المصفوفة بعد استدعاء العنصر."
   ]
  },
  {
   "cell_type": "code",
   "execution_count": 6,
   "metadata": {
    "collapsed": true
   },
   "outputs": [],
   "source": [
    "a[0] = 20 # تغيير قيمة العنصر الأول"
   ]
  },
  {
   "cell_type": "code",
   "execution_count": 7,
   "metadata": {
    "collapsed": false
   },
   "outputs": [
    {
     "data": {
      "text/plain": [
       "array([20,  2,  3])"
      ]
     },
     "execution_count": 7,
     "metadata": {},
     "output_type": "execute_result"
    }
   ],
   "source": [
    "a"
   ]
  },
  {
   "cell_type": "markdown",
   "metadata": {},
   "source": [
    "<div style=\"direction:rtl;text-align:right\">\n",
    "لنعرف الآن مصفوفة أخرى ذات بعدين بحيث يكون فيها صفوف وأعمدة. لعمل ذلك نقوم بعمل نفس الأمر ولكن حجم القائمة سيتغير كما نرى في المثال التالي"
   ]
  },
  {
   "cell_type": "code",
   "execution_count": 6,
   "metadata": {
    "collapsed": true
   },
   "outputs": [],
   "source": [
    "b = np.array([[1,2,3], [4,5,6], [7,8,9], [10,11,12]], dtype=np.int)"
   ]
  },
  {
   "cell_type": "code",
   "execution_count": 7,
   "metadata": {
    "collapsed": false
   },
   "outputs": [
    {
     "data": {
      "text/plain": [
       "array([[ 1,  2,  3],\n",
       "       [ 4,  5,  6],\n",
       "       [ 7,  8,  9],\n",
       "       [10, 11, 12]])"
      ]
     },
     "execution_count": 7,
     "metadata": {},
     "output_type": "execute_result"
    }
   ],
   "source": [
    "b"
   ]
  },
  {
   "cell_type": "markdown",
   "metadata": {},
   "source": [
    "<div style=\"direction:rtl;text-align:right\">\n",
    "وهنا نرى أن نمباي قامت بإنشاء مصفوفة ثنائية الأبعاد. من حيث الجوهر، لا تميز نمباي بين المصفوفتين أعلاه، حيث يمكننا استدعاء الكثير من الأوامر للتعرف على هاتين المصفوفتين. "
   ]
  },
  {
   "cell_type": "code",
   "execution_count": 8,
   "metadata": {
    "collapsed": false
   },
   "outputs": [
    {
     "data": {
      "text/plain": [
       "(4, 3)"
      ]
     },
     "execution_count": 8,
     "metadata": {},
     "output_type": "execute_result"
    }
   ],
   "source": [
    "b.shape"
   ]
  },
  {
   "cell_type": "code",
   "execution_count": 9,
   "metadata": {
    "collapsed": false
   },
   "outputs": [
    {
     "name": "stdout",
     "output_type": "stream",
     "text": [
      "1\n",
      "2\n",
      "4\n"
     ]
    }
   ],
   "source": [
    "print(b[0, 0]) # item at row 0, column 0\n",
    "print(b[0, 1]) # item at row 0, column 1\n",
    "print(b[1, 0]) # item at row 1, column 0"
   ]
  },
  {
   "cell_type": "markdown",
   "metadata": {},
   "source": [
    "<div style=\"direction:rtl;text-align:right\">\n",
    "ولكن قبل أن نخوض في تفاصيل استدعاء العناصر، هناك طرق أخرى لإنشاء المصفوفات بحسب القيم التي نود أن نستخدمها. فمثلاً هناك المصفوفة التي تتكون كلها من أصفار"
   ]
  },
  {
   "cell_type": "code",
   "execution_count": 10,
   "metadata": {
    "collapsed": false
   },
   "outputs": [
    {
     "data": {
      "text/plain": [
       "array([[0., 0., 0., 0., 0.],\n",
       "       [0., 0., 0., 0., 0.],\n",
       "       [0., 0., 0., 0., 0.]])"
      ]
     },
     "execution_count": 10,
     "metadata": {},
     "output_type": "execute_result"
    }
   ],
   "source": [
    "np.zeros((3,5))    # shape is   3 rows and 5 columns"
   ]
  },
  {
   "cell_type": "markdown",
   "metadata": {},
   "source": [
    "<div style=\"direction:rtl;text-align:right\">\n",
    "وهناك المصفوفات المكونة  من رقم 1 فقط"
   ]
  },
  {
   "cell_type": "code",
   "execution_count": 11,
   "metadata": {
    "collapsed": false
   },
   "outputs": [
    {
     "data": {
      "text/plain": [
       "array([[1., 1.],\n",
       "       [1., 1.],\n",
       "       [1., 1.]])"
      ]
     },
     "execution_count": 11,
     "metadata": {},
     "output_type": "execute_result"
    }
   ],
   "source": [
    "np.ones((3,2))    "
   ]
  },
  {
   "cell_type": "markdown",
   "metadata": {},
   "source": [
    "<div style=\"direction:rtl;text-align:right\">\n",
    "وهناك المصفوفة المكونة من أرقام عشوائية"
   ]
  },
  {
   "cell_type": "code",
   "execution_count": 12,
   "metadata": {
    "collapsed": false
   },
   "outputs": [
    {
     "data": {
      "text/plain": [
       "array([[0.48719984, 0.89522172, 0.43402444, 0.27404542],\n",
       "       [0.89522215, 0.10392662, 0.05671184, 0.74929598]])"
      ]
     },
     "execution_count": 12,
     "metadata": {},
     "output_type": "execute_result"
    }
   ],
   "source": [
    "np.random.random((2,4))"
   ]
  },
  {
   "cell_type": "markdown",
   "metadata": {},
   "source": [
    "<div style=\"direction:rtl;text-align:right\">\n",
    "وهناك المصفوفة المكونة من سلسلة معرفة من الأرقام باستخدام الأمر  linspace"
   ]
  },
  {
   "cell_type": "code",
   "execution_count": 13,
   "metadata": {
    "collapsed": true
   },
   "outputs": [],
   "source": [
    "nums = np.linspace(start=1, stop=100, num=10)  # i.e., 10 numbers, spaced evenly between 1 and 100"
   ]
  },
  {
   "cell_type": "code",
   "execution_count": 14,
   "metadata": {
    "collapsed": false
   },
   "outputs": [
    {
     "data": {
      "text/plain": [
       "array([  1.,  12.,  23.,  34.,  45.,  56.,  67.,  78.,  89., 100.])"
      ]
     },
     "execution_count": 14,
     "metadata": {},
     "output_type": "execute_result"
    }
   ],
   "source": [
    "nums"
   ]
  },
  {
   "cell_type": "markdown",
   "metadata": {},
   "source": [
    "<div style=\"direction:rtl;text-align:right\">\n",
    "بعد ذلك يمكننا تحويل قائمة الأرقام هذه إلى مصفوفة مرتبة بعدد من الصفوف والأعمدة. لاحظ أن عدد الصفوف x عدد الأعمدة  يساوي مجموع عناصر القائمة والذي يمكن استدعاءه باستخدام size."
   ]
  },
  {
   "cell_type": "code",
   "execution_count": 17,
   "metadata": {
    "collapsed": true
   },
   "outputs": [],
   "source": [
    "nums_array = nums.reshape((2,5))"
   ]
  },
  {
   "cell_type": "code",
   "execution_count": 18,
   "metadata": {
    "collapsed": false
   },
   "outputs": [
    {
     "data": {
      "text/plain": [
       "True"
      ]
     },
     "execution_count": 18,
     "metadata": {},
     "output_type": "execute_result"
    }
   ],
   "source": [
    "nums.size == nums_array.shape[0]*nums_array.shape[1]"
   ]
  },
  {
   "cell_type": "markdown",
   "metadata": {},
   "source": [
    "<div style=\"direction:rtl;text-align:right\">\n",
    "\n",
    "# استدعاء العناصر"
   ]
  },
  {
   "cell_type": "markdown",
   "metadata": {},
   "source": [
    "<div style=\"direction:rtl;text-align:right\">\n",
    "ليس هناك اختلاف كبير حول طريقة الاستدعاء بين المصفوفات والقوائم (والتي سبق أن تعلمناها في مقدمة البايثون). ولكن هذه المرة سنركز بشكل أكبر على ما تقوم به نمباي في الخلفية."
   ]
  },
  {
   "cell_type": "code",
   "execution_count": 19,
   "metadata": {
    "collapsed": true
   },
   "outputs": [],
   "source": [
    "a = np.array([[1,2,3,4], [5,6,7,8], [9,10,11,12]])"
   ]
  },
  {
   "cell_type": "code",
   "execution_count": 20,
   "metadata": {
    "collapsed": false
   },
   "outputs": [
    {
     "data": {
      "text/plain": [
       "array([[ 1,  2,  3,  4],\n",
       "       [ 5,  6,  7,  8],\n",
       "       [ 9, 10, 11, 12]])"
      ]
     },
     "execution_count": 20,
     "metadata": {},
     "output_type": "execute_result"
    }
   ],
   "source": [
    "a"
   ]
  },
  {
   "cell_type": "markdown",
   "metadata": {},
   "source": [
    "<div style=\"direction:rtl;text-align:right\">\n",
    "في الأمر التالي، سوف نستدعي الصف 0 و 1 ، ونستدعي الأعمدة 1 و 2. لاحظ أن الرقم الأخير لا يكون مشمولاً في الاستدعاء، بحيث أن 1:3 لا تعني 1, 2 ,3 بل تعني 1, 2 فقط."
   ]
  },
  {
   "cell_type": "code",
   "execution_count": 21,
   "metadata": {
    "collapsed": true
   },
   "outputs": [],
   "source": [
    "b = a[:2, 1:3]"
   ]
  },
  {
   "cell_type": "code",
   "execution_count": 22,
   "metadata": {
    "collapsed": false,
    "scrolled": true
   },
   "outputs": [
    {
     "data": {
      "text/plain": [
       "array([[2, 3],\n",
       "       [6, 7]])"
      ]
     },
     "execution_count": 22,
     "metadata": {},
     "output_type": "execute_result"
    }
   ],
   "source": [
    "b"
   ]
  },
  {
   "cell_type": "markdown",
   "metadata": {},
   "source": [
    "<div style=\"direction:rtl;text-align:right\">\n",
    "هناك مبدأ مهم في الاستدعاء في نمباي ألا وهو أن نمباي حين تستدعي العناصر، فهي تستدعي \"صورة\" من الأصل وليس نسخة مستقلة، حيث أن أي تعديل في هذه الصورة فهو تعديل في المصفوفة الأصل. فكن حذراً عن تعديل المصفوفات."
   ]
  },
  {
   "cell_type": "code",
   "execution_count": 23,
   "metadata": {
    "collapsed": false
   },
   "outputs": [
    {
     "data": {
      "text/plain": [
       "2"
      ]
     },
     "execution_count": 23,
     "metadata": {},
     "output_type": "execute_result"
    }
   ],
   "source": [
    "a[0, 1]"
   ]
  },
  {
   "cell_type": "code",
   "execution_count": 24,
   "metadata": {
    "collapsed": true
   },
   "outputs": [],
   "source": [
    "b[0, 0] = 77     # b[0, 0] is the same piece of data as a[0, 1]"
   ]
  },
  {
   "cell_type": "code",
   "execution_count": 25,
   "metadata": {
    "collapsed": false
   },
   "outputs": [
    {
     "data": {
      "text/plain": [
       "77"
      ]
     },
     "execution_count": 25,
     "metadata": {},
     "output_type": "execute_result"
    }
   ],
   "source": [
    "a[0, 1] "
   ]
  },
  {
   "cell_type": "code",
   "execution_count": 26,
   "metadata": {
    "collapsed": false
   },
   "outputs": [
    {
     "data": {
      "text/plain": [
       "array([[ 1, 77,  3,  4],\n",
       "       [ 5,  6,  7,  8],\n",
       "       [ 9, 10, 11, 12]])"
      ]
     },
     "execution_count": 26,
     "metadata": {},
     "output_type": "execute_result"
    }
   ],
   "source": [
    "a"
   ]
  },
  {
   "cell_type": "markdown",
   "metadata": {},
   "source": [
    "<div style=\"direction:rtl;text-align:right\">\n",
    "نلاحظ أن القيمة في مصفوفة a الأصلية تم تعديلها. بسبب طريقة الاستدعاء القائمة على اقتطاع الأصل، لا نسخة منه. لاقتطاع نسخة منه، نقوم بكل بساطة بإضافة الأمر  copy نهاية الاستدعاء"
   ]
  },
  {
   "cell_type": "code",
   "execution_count": 27,
   "metadata": {
    "collapsed": true
   },
   "outputs": [],
   "source": [
    "b = a[:2, 1:3].copy()"
   ]
  },
  {
   "cell_type": "code",
   "execution_count": 28,
   "metadata": {
    "collapsed": false
   },
   "outputs": [
    {
     "data": {
      "text/plain": [
       "77"
      ]
     },
     "execution_count": 28,
     "metadata": {},
     "output_type": "execute_result"
    }
   ],
   "source": [
    "a[0, 1]"
   ]
  },
  {
   "cell_type": "code",
   "execution_count": 29,
   "metadata": {
    "collapsed": true
   },
   "outputs": [],
   "source": [
    "b[0, 0] = 10     # b[0, 0] is the same piece of data as a[0, 1]"
   ]
  },
  {
   "cell_type": "code",
   "execution_count": 30,
   "metadata": {
    "collapsed": false
   },
   "outputs": [
    {
     "data": {
      "text/plain": [
       "77"
      ]
     },
     "execution_count": 30,
     "metadata": {},
     "output_type": "execute_result"
    }
   ],
   "source": [
    "a[0, 1] "
   ]
  },
  {
   "cell_type": "markdown",
   "metadata": {},
   "source": [
    "<div style=\"direction:rtl;text-align:right\">\n",
    "وهنا نرى أن مصفوفة a لم يجر عليها أي تعديل."
   ]
  },
  {
   "cell_type": "markdown",
   "metadata": {},
   "source": [
    "<div style=\"direction:rtl;text-align:right\">\n",
    "\n",
    "# الجمل الشرطية"
   ]
  },
  {
   "cell_type": "markdown",
   "metadata": {},
   "source": [
    "<div style=\"direction:rtl;text-align:right\">\n",
    "في كل مراحل تحليل البيانات، نحتاج دائماً للجمل الشرطية لأغراض مختلفة. مثلاً ماهي العناصر التي تزيد قيمتها عن كذا؟ يمكن اكتشاف هذه الأسئلة من خلال استخدام الأدوات الشرطية: < > | & "
   ]
  },
  {
   "cell_type": "markdown",
   "metadata": {},
   "source": [
    "<div style=\"direction:rtl;text-align:right\">\n",
    "بداية، لنعرف مصفوفة مكونة من أرقام منظمة ليسهل مقارنة النتائج."
   ]
  },
  {
   "cell_type": "code",
   "execution_count": 15,
   "metadata": {
    "collapsed": true
   },
   "outputs": [],
   "source": [
    "a = np.linspace(20, -5, 50) # give me a list 50 equally spaced numbers ordered from 20 to -5 "
   ]
  },
  {
   "cell_type": "code",
   "execution_count": 16,
   "metadata": {
    "collapsed": true
   },
   "outputs": [],
   "source": [
    "b = a.reshape((10, 5))"
   ]
  },
  {
   "cell_type": "code",
   "execution_count": 17,
   "metadata": {
    "collapsed": false
   },
   "outputs": [
    {
     "data": {
      "text/plain": [
       "array([[20.        , 19.48979592, 18.97959184, 18.46938776, 17.95918367],\n",
       "       [17.44897959, 16.93877551, 16.42857143, 15.91836735, 15.40816327],\n",
       "       [14.89795918, 14.3877551 , 13.87755102, 13.36734694, 12.85714286],\n",
       "       [12.34693878, 11.83673469, 11.32653061, 10.81632653, 10.30612245],\n",
       "       [ 9.79591837,  9.28571429,  8.7755102 ,  8.26530612,  7.75510204],\n",
       "       [ 7.24489796,  6.73469388,  6.2244898 ,  5.71428571,  5.20408163],\n",
       "       [ 4.69387755,  4.18367347,  3.67346939,  3.16326531,  2.65306122],\n",
       "       [ 2.14285714,  1.63265306,  1.12244898,  0.6122449 ,  0.10204082],\n",
       "       [-0.40816327, -0.91836735, -1.42857143, -1.93877551, -2.44897959],\n",
       "       [-2.95918367, -3.46938776, -3.97959184, -4.48979592, -5.        ]])"
      ]
     },
     "execution_count": 17,
     "metadata": {},
     "output_type": "execute_result"
    }
   ],
   "source": [
    "b"
   ]
  },
  {
   "cell_type": "markdown",
   "metadata": {},
   "source": [
    "<div style=\"direction:rtl;text-align:right\">\n",
    "الآن، لنسأل مثلاً ماهي العناصر التي تزيد قيمتها على 0"
   ]
  },
  {
   "cell_type": "code",
   "execution_count": 18,
   "metadata": {
    "collapsed": false
   },
   "outputs": [
    {
     "data": {
      "text/plain": [
       "array([[ True,  True,  True,  True,  True],\n",
       "       [ True,  True,  True,  True,  True],\n",
       "       [ True,  True,  True,  True,  True],\n",
       "       [ True,  True,  True,  True,  True],\n",
       "       [ True,  True,  True,  True,  True],\n",
       "       [ True,  True,  True,  True,  True],\n",
       "       [ True,  True,  True,  True,  True],\n",
       "       [ True,  True,  True,  True,  True],\n",
       "       [False, False, False, False, False],\n",
       "       [False, False, False, False, False]])"
      ]
     },
     "execution_count": 18,
     "metadata": {},
     "output_type": "execute_result"
    }
   ],
   "source": [
    "b > 0"
   ]
  },
  {
   "cell_type": "markdown",
   "metadata": {},
   "source": [
    "<div style=\"direction:rtl;text-align:right\">\n",
    "هذا الامر يعطينا مصفوفة أخرى بنفس الحجم تماماً ولكن عناصرها إما True أو False بحسب موافقتها للشرط من عدمه. ولكن يمكننا استخدام هذه المصفوفة لاستخراج العناصر التي وافقت الشرط."
   ]
  },
  {
   "cell_type": "code",
   "execution_count": 19,
   "metadata": {
    "collapsed": false
   },
   "outputs": [
    {
     "data": {
      "text/plain": [
       "array([-0.40816327, -0.91836735, -1.42857143, -1.93877551, -2.44897959,\n",
       "       -2.95918367, -3.46938776, -3.97959184, -4.48979592, -5.        ])"
      ]
     },
     "execution_count": 19,
     "metadata": {},
     "output_type": "execute_result"
    }
   ],
   "source": [
    "b[b < 0]"
   ]
  },
  {
   "cell_type": "markdown",
   "metadata": {},
   "source": [
    "<div style=\"direction:rtl;text-align:right\">\n",
    "لاحظ أن النتيجة أعلاه هي قائمة من الأرقام، ولم تعد مصفوفة بذات الحجم. وجميع الأرقام هي أقل من 0 لأن هذا شرطنا الذي حددناه."
   ]
  },
  {
   "cell_type": "code",
   "execution_count": 20,
   "metadata": {
    "collapsed": false
   },
   "outputs": [
    {
     "data": {
      "text/plain": [
       "7.5"
      ]
     },
     "execution_count": 20,
     "metadata": {},
     "output_type": "execute_result"
    }
   ],
   "source": [
    "b.mean()"
   ]
  },
  {
   "cell_type": "markdown",
   "metadata": {},
   "source": [
    "<div style=\"direction:rtl;text-align:right\">\n",
    "\n",
    "# العمليات الحسابية"
   ]
  },
  {
   "cell_type": "markdown",
   "metadata": {},
   "source": [
    "<div style=\"direction:rtl;text-align:right\">\n",
    "في هذا الدرس، سوف نتحدث عن مختلف العمليات الحسابية والإحصائية التي يمكن أن نجريها على المصفوفات."
   ]
  },
  {
   "cell_type": "markdown",
   "metadata": {},
   "source": [
    "<div style=\"direction:rtl;text-align:right\">\n",
    "لنبدأ بتعريف مصفوفتين: x و y بأرقام صغيرة لنرى كيف تجرى العمليات الحسابية."
   ]
  },
  {
   "cell_type": "code",
   "execution_count": 21,
   "metadata": {
    "collapsed": true
   },
   "outputs": [],
   "source": [
    "x = np.array([[1,2],[3,4]], dtype=np.float64)\n",
    "y = np.array([[5,6],[7,8]], dtype=np.float64)"
   ]
  },
  {
   "cell_type": "code",
   "execution_count": 22,
   "metadata": {
    "collapsed": false
   },
   "outputs": [
    {
     "data": {
      "text/plain": [
       "array([[1., 2.],\n",
       "       [3., 4.]])"
      ]
     },
     "execution_count": 22,
     "metadata": {},
     "output_type": "execute_result"
    }
   ],
   "source": [
    "x"
   ]
  },
  {
   "cell_type": "code",
   "execution_count": 23,
   "metadata": {
    "collapsed": false
   },
   "outputs": [
    {
     "data": {
      "text/plain": [
       "array([[5., 6.],\n",
       "       [7., 8.]])"
      ]
     },
     "execution_count": 23,
     "metadata": {},
     "output_type": "execute_result"
    }
   ],
   "source": [
    "y"
   ]
  },
  {
   "cell_type": "code",
   "execution_count": 24,
   "metadata": {
    "collapsed": false
   },
   "outputs": [
    {
     "data": {
      "text/plain": [
       "array([[ 6.,  8.],\n",
       "       [10., 12.]])"
      ]
     },
     "execution_count": 24,
     "metadata": {},
     "output_type": "execute_result"
    }
   ],
   "source": [
    "x + y  # جمع عناصر المصفوفة الأولى مع العناصر المقابلة للمصفوفة الثانية\n",
    "#np.add(x,y)"
   ]
  },
  {
   "cell_type": "code",
   "execution_count": 25,
   "metadata": {
    "collapsed": false
   },
   "outputs": [
    {
     "data": {
      "text/plain": [
       "array([[-4., -4.],\n",
       "       [-4., -4.]])"
      ]
     },
     "execution_count": 25,
     "metadata": {},
     "output_type": "execute_result"
    }
   ],
   "source": [
    "x - y # طرح عناصر المصفوفة الأولى من العناصر المقابلة في المصفوفة الثانية \n",
    "# np.substract(x,y)"
   ]
  },
  {
   "cell_type": "code",
   "execution_count": 26,
   "metadata": {
    "collapsed": false
   },
   "outputs": [
    {
     "data": {
      "text/plain": [
       "array([[ 5., 12.],\n",
       "       [21., 32.]])"
      ]
     },
     "execution_count": 26,
     "metadata": {},
     "output_type": "execute_result"
    }
   ],
   "source": [
    "x * y # ضرب العناصر في المصفوفة الأولى بالعناصر المقابلة في المصفوفة الثانية\n",
    "#np.multiply(x,y)"
   ]
  },
  {
   "cell_type": "code",
   "execution_count": 27,
   "metadata": {
    "collapsed": false
   },
   "outputs": [
    {
     "data": {
      "text/plain": [
       "array([[0.2       , 0.33333333],\n",
       "       [0.42857143, 0.5       ]])"
      ]
     },
     "execution_count": 27,
     "metadata": {},
     "output_type": "execute_result"
    }
   ],
   "source": [
    "x / y  # قسمة العناصر في المصفوفة الأولى على العناصر المقابلة في المصفوفة الثانية\n",
    "#np.divide(x,y)"
   ]
  },
  {
   "cell_type": "code",
   "execution_count": 28,
   "metadata": {
    "collapsed": false
   },
   "outputs": [
    {
     "data": {
      "text/plain": [
       "array([[ 1.,  4.],\n",
       "       [ 9., 16.]])"
      ]
     },
     "execution_count": 28,
     "metadata": {},
     "output_type": "execute_result"
    }
   ],
   "source": [
    "x ** 2 # رفع عناصر المصفوفة إلى أي قوة\n",
    "#np.power(x, 2)"
   ]
  },
  {
   "cell_type": "code",
   "execution_count": 29,
   "metadata": {
    "collapsed": false
   },
   "outputs": [
    {
     "data": {
      "text/plain": [
       "array([[1.        , 1.41421356],\n",
       "       [1.73205081, 2.        ]])"
      ]
     },
     "execution_count": 29,
     "metadata": {},
     "output_type": "execute_result"
    }
   ],
   "source": [
    "np.sqrt(x)"
   ]
  },
  {
   "cell_type": "code",
   "execution_count": 30,
   "metadata": {
    "collapsed": false
   },
   "outputs": [
    {
     "data": {
      "text/plain": [
       "array([[ 0.84147098,  0.90929743],\n",
       "       [ 0.14112001, -0.7568025 ]])"
      ]
     },
     "execution_count": 30,
     "metadata": {},
     "output_type": "execute_result"
    }
   ],
   "source": [
    "np.sin(x)"
   ]
  },
  {
   "cell_type": "code",
   "execution_count": 31,
   "metadata": {
    "collapsed": false
   },
   "outputs": [
    {
     "data": {
      "text/plain": [
       "array([[ 0.54030231, -0.41614684],\n",
       "       [-0.9899925 , -0.65364362]])"
      ]
     },
     "execution_count": 31,
     "metadata": {},
     "output_type": "execute_result"
    }
   ],
   "source": [
    "np.cos(x)"
   ]
  },
  {
   "cell_type": "code",
   "execution_count": 32,
   "metadata": {
    "collapsed": false
   },
   "outputs": [
    {
     "data": {
      "text/plain": [
       "array([[0.        , 0.69314718],\n",
       "       [1.09861229, 1.38629436]])"
      ]
     },
     "execution_count": 32,
     "metadata": {},
     "output_type": "execute_result"
    }
   ],
   "source": [
    "np.log(x)"
   ]
  },
  {
   "cell_type": "code",
   "execution_count": 33,
   "metadata": {
    "collapsed": false
   },
   "outputs": [
    {
     "data": {
      "text/plain": [
       "array([[ 2.71828183,  7.3890561 ],\n",
       "       [20.08553692, 54.59815003]])"
      ]
     },
     "execution_count": 33,
     "metadata": {},
     "output_type": "execute_result"
    }
   ],
   "source": [
    "np.exp(x)"
   ]
  },
  {
   "cell_type": "code",
   "execution_count": 34,
   "metadata": {
    "collapsed": false
   },
   "outputs": [
    {
     "data": {
      "text/plain": [
       "array([[19., 22.],\n",
       "       [43., 50.]])"
      ]
     },
     "execution_count": 34,
     "metadata": {},
     "output_type": "execute_result"
    }
   ],
   "source": [
    "np.dot(x, y) # ضرب المصفوفات بطريقة جبر المصفوفات أو بما يسمى dot product"
   ]
  },
  {
   "cell_type": "markdown",
   "metadata": {},
   "source": [
    "<div style=\"direction:rtl;text-align:right\">\n",
    "إضافة إلى كل هذه العمليات الحسابية (والتي كما تلاحظ تجرى لكل عنصر على حدة) نستطيع إجراء عمليات على صفوف كاملة أو أعمدة كاملة. في الأوامر التالية، نحتاج إلى كتابة متغير axis وهو البُعد المستخدم للعملية، بحيث أن قيمة 0 تشير إلى إجراء العملية على الصفوف، وقيمة  1 تشير إلى إجراء العملية على الأعمدة."
   ]
  },
  {
   "cell_type": "code",
   "execution_count": 35,
   "metadata": {
    "collapsed": false
   },
   "outputs": [
    {
     "data": {
      "text/plain": [
       "array([[1., 2.],\n",
       "       [3., 4.]])"
      ]
     },
     "execution_count": 35,
     "metadata": {},
     "output_type": "execute_result"
    }
   ],
   "source": [
    "x"
   ]
  },
  {
   "cell_type": "code",
   "execution_count": 36,
   "metadata": {
    "collapsed": false
   },
   "outputs": [
    {
     "data": {
      "text/plain": [
       "10.0"
      ]
     },
     "execution_count": 36,
     "metadata": {},
     "output_type": "execute_result"
    }
   ],
   "source": [
    "x.sum() # sum of all numbers in x"
   ]
  },
  {
   "cell_type": "code",
   "execution_count": 37,
   "metadata": {
    "collapsed": false
   },
   "outputs": [
    {
     "data": {
      "text/plain": [
       "array([4., 6.])"
      ]
     },
     "execution_count": 37,
     "metadata": {},
     "output_type": "execute_result"
    }
   ],
   "source": [
    "x.sum(axis=0) # sum of all rows for each columns"
   ]
  },
  {
   "cell_type": "code",
   "execution_count": 38,
   "metadata": {
    "collapsed": false
   },
   "outputs": [
    {
     "data": {
      "text/plain": [
       "array([3., 7.])"
      ]
     },
     "execution_count": 38,
     "metadata": {},
     "output_type": "execute_result"
    }
   ],
   "source": [
    "x.sum(axis=1) # sum of all columns for each rows"
   ]
  },
  {
   "cell_type": "code",
   "execution_count": 39,
   "metadata": {
    "collapsed": false,
    "scrolled": true
   },
   "outputs": [
    {
     "name": "stdout",
     "output_type": "stream",
     "text": [
      "Mean of x:  2.5\n",
      "Mean of x per column:  [2. 3.]\n",
      "Mean of x per row:  [1.5 3.5]\n",
      "Maximum value of of x:  4.0\n",
      "Maximum value of of x per column:  [3. 4.]\n",
      "Maximum value of of x per row:  [2. 4.]\n",
      "Minimum value of of x:  1.0\n",
      "Minimum value of of x per column:  [1. 2.]\n",
      "Minimum value of of x per row:  [1. 3.]\n"
     ]
    }
   ],
   "source": [
    "print('Mean of x: ' ,  x.mean())\n",
    "print('Mean of x per column: ' ,  x.mean(axis=0))\n",
    "print('Mean of x per row: ' , x.mean(axis=1))\n",
    "print('Maximum value of of x: ' , x.max())\n",
    "print('Maximum value of of x per column: ' ,x.max(axis=0))\n",
    "print('Maximum value of of x per row: ' ,x.max(axis=1))\n",
    "print('Minimum value of of x: ' , x.min())\n",
    "print('Minimum value of of x per column: ' ,x.min(axis=0))\n",
    "print('Minimum value of of x per row: ' , x.min(axis=1))"
   ]
  },
  {
   "cell_type": "markdown",
   "metadata": {},
   "source": [
    "<div style=\"direction:rtl;text-align:right\">\n",
    "هذه العمليات الأساسية ستكون هي القاعدة الأساسية التي نبني عليها الحسابات في الدروس القادمة. على الرغم من أن بحر النمباي واسع، إلا أن الأوامر والمهارات التي تحتاج للتعامل معها بشكل دوري معدودة جداً. في الدروس القادمة، سنتوسع تدريجياً في التعرف على نمباي وعلى المكتبات الأخرى بما يناسب احتياجنا."
   ]
  }
 ],
 "metadata": {
  "kernelspec": {
   "display_name": "Python 2",
   "language": "python",
   "name": "python2"
  },
  "language_info": {
   "codemirror_mode": {
    "name": "ipython",
    "version": 2
   },
   "file_extension": ".py",
   "mimetype": "text/x-python",
   "name": "python",
   "nbconvert_exporter": "python",
   "pygments_lexer": "ipython2",
   "version": "2.7.12"
  }
 },
 "nbformat": 4,
 "nbformat_minor": 2
}
